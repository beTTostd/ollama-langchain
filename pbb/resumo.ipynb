{
 "cells": [
  {
   "cell_type": "code",
   "execution_count": 6,
   "metadata": {},
   "outputs": [],
   "source": [
    "# ! ollama run gemma:7b\n",
    "# ! ollama run llama3.2"
   ]
  },
  {
   "cell_type": "code",
   "execution_count": 1,
   "metadata": {},
   "outputs": [],
   "source": [
    "# Imports\n",
    "import datetime\n",
    "import time\n",
    "\n",
    "from langchain_core.vectorstores import InMemoryVectorStore\n",
    "from langchain_text_splitters import RecursiveCharacterTextSplitter\n",
    "\n",
    "from langchain_community.document_loaders import UnstructuredMarkdownLoader\n",
    "\n",
    "from langchain_community.llms import Ollama\n",
    "from langchain_community.embeddings import OllamaEmbeddings\n",
    "\n",
    "from langchain.chains import create_retrieval_chain\n",
    "from langchain.chains.combine_documents import create_stuff_documents_chain\n",
    "from langchain_core.prompts import ChatPromptTemplate\n"
   ]
  },
  {
   "cell_type": "code",
   "execution_count": 3,
   "metadata": {},
   "outputs": [],
   "source": [
    "# Load LLM\n",
    "\n",
    "# MODEL = 'deepseek-r1:14b'\n",
    "MODEL = 'deepseek-r1:8b'\n",
    "# MODEL = 'llama3.2'\n",
    "# MODEL = 'gemma:7b'\n",
    "\n",
    "llm = Ollama(model=MODEL)\n",
    "embeddings = OllamaEmbeddings(model=MODEL)"
   ]
  },
  {
   "cell_type": "code",
   "execution_count": 4,
   "metadata": {},
   "outputs": [],
   "source": [
    "def summarize_chapter(file_name, file_name_output, question):\n",
    "\n",
    "  # Vars\n",
    "  now = datetime.datetime.now()\n",
    "  start_time = time.time()\n",
    "  path_file_load = './book/'+file_name\n",
    "  path_file_result = './output/'+file_name_output\n",
    "  path_file_history = './output/history/'+ str(now) + '--' + file_name_output\n",
    "\n",
    "  # Load file\n",
    "  loader = UnstructuredMarkdownLoader(path_file_load)\n",
    "  docs = loader.load()  \n",
    "  # text_splitter = RecursiveCharacterTextSplitter(chunk_size=1000, chunk_overlap=200)\n",
    "  # splits = text_splitter.split_documents(docs)\n",
    "  # vectorstore = InMemoryVectorStore.from_documents(\n",
    "  #     documents=splits, embedding=OpenAIEmbeddings()\n",
    "  # )\n",
    "\n",
    "  # Create vector store\n",
    "  vectorstore = InMemoryVectorStore.from_documents(\n",
    "    documents=docs, embedding=embeddings\n",
    "  )\n",
    "\n",
    "  retriever = vectorstore.as_retriever()\n",
    "\n",
    "  # Create pronpt\n",
    "  system_prompt = (\n",
    "    # \"You are an assistant for question-answering tasks. \"\n",
    "    \"Use the following chapter to answer the question.\"\n",
    "    \"If you don't know the answer, say that you don't know. \"\n",
    "    # \"Use three sentences maximum and keep the \"\n",
    "    # \"answer concise.\"\n",
    "    \"\\n\\n\"\n",
    "    \"{context}\"\n",
    "  )\n",
    "\n",
    "  prompt = ChatPromptTemplate.from_messages([\n",
    "    (\"system\", system_prompt),\n",
    "    (\"human\", \"{input}\"),\n",
    "    ])\n",
    "\n",
    "  # Create Pipe\n",
    "  question_answer_chain = create_stuff_documents_chain(llm, prompt)\n",
    "  rag_chain = create_retrieval_chain(retriever, question_answer_chain)\n",
    "\n",
    "  # Execute\n",
    "  results = rag_chain.invoke({\"input\": question})\n",
    "\n",
    "  end_time = time.time()\n",
    "\n",
    "  # Write\n",
    "  f = open(path_file_result, \"w\")\n",
    "  f.write(results['answer'])\n",
    "  f.close()\n",
    "\n",
    "  f = open(path_file_history, \"w\")\n",
    "  f.write(f'model: {MODEL}\\n')\n",
    "  f.write(f'start at: {now}\\n')\n",
    "  f.write(f'system_prompt: \"{system_prompt.join('; ')}\"\\n')\n",
    "  f.write(f'question: {question}\\n')\n",
    "  f.write(f'time to process: {end_time - start_time}\\n')\n",
    "  f.write(\"\\n\\n\")\n",
    "  f.write(results['answer'])\n",
    "  f.close()"
   ]
  },
  {
   "cell_type": "code",
   "execution_count": 5,
   "metadata": {},
   "outputs": [],
   "source": [
    "summarize_chapter(\"03-a_motivacao_do_pbb.md\", \"03-a_motivacao_do_pbb.md\", \"escreva um resumo detalhado do captulo 'A motivação do PBB' em portugues\")"
   ]
  },
  {
   "cell_type": "code",
   "execution_count": 7,
   "metadata": {},
   "outputs": [],
   "source": [
    "summarize_chapter(\"04-uma_breve_visao_do_scrum.md\", \"04-uma_breve_visao_do_scrum.md\", \"escreva um resumo detalhado do captulo 'Uma breve visão do scrum' em portugues\")"
   ]
  },
  {
   "cell_type": "code",
   "execution_count": 6,
   "metadata": {},
   "outputs": [],
   "source": [
    "summarize_chapter(\"05-o_protagonista_o_backlog.md\", \"05-o_protagonista_o_backlog.md\", \"escreva um resumo detalhado do captulo 'O Protagonista: O Backlog' em portugues\")"
   ]
  },
  {
   "cell_type": "code",
   "execution_count": 8,
   "metadata": {},
   "outputs": [],
   "source": [
    "summarize_chapter(\"06-product_backlog_building.md\", \"06-product_backlog_building.md\", \"escreva um resumo detalhado do captulo 'Product backlog Building' em portugues\")"
   ]
  },
  {
   "cell_type": "code",
   "execution_count": 9,
   "metadata": {},
   "outputs": [],
   "source": [
    "summarize_chapter(\"07-o_pbb_canvas_e_o_fluxo_de_construcao_do_backlog.md\", \"07-o_pbb_canvas_e_o_fluxo_de_construcao_do_backlog.md\", \"escreva um resumo detalhado do captulo 'O PBB canvas e o fluxo de construção do backlog' em portugues\")"
   ]
  },
  {
   "cell_type": "code",
   "execution_count": 10,
   "metadata": {},
   "outputs": [],
   "source": [
    "summarize_chapter(\"08-coorg_a_tecnica_de_priorizacao_do_pbb.md\", \"08-coorg_a_tecnica_de_priorizacao_do_pbb.md\", \"escreva um resumo detalhado do captulo 'COORG: a técnica de priorização do PBB' em portugues\")"
   ]
  },
  {
   "cell_type": "code",
   "execution_count": 11,
   "metadata": {},
   "outputs": [],
   "source": [
    "summarize_chapter(\"09-pbb_e_backlog_ready.md\", \"09-pbb_e_backlog_ready.md\", \"escreva um resumo detalhado do captulo 'PBB e backlog ready' em portugues\")"
   ]
  },
  {
   "cell_type": "code",
   "execution_count": 12,
   "metadata": {},
   "outputs": [],
   "source": [
    "summarize_chapter(\"10-pbb_e_historia_de_usuario.md\", \"10-pbb_e_historia_de_usuario.md\", \"escreva um resumo detalhado do captulo 'PBB e história de usuário' em portugues\")"
   ]
  },
  {
   "cell_type": "code",
   "execution_count": 13,
   "metadata": {},
   "outputs": [],
   "source": [
    "summarize_chapter(\"11-escreva_historias_de_usuario_com_o_pbb.md\", \"11-escreva_historias_de_usuario_com_o_pbb.md\", \"escreva um resumo detalhado do captulo 'Escreva histórias de usuário com o PBB' em portugues\")"
   ]
  },
  {
   "cell_type": "code",
   "execution_count": 14,
   "metadata": {},
   "outputs": [],
   "source": [
    "summarize_chapter(\"12-pbb_e_taras.md\", \"12-pbb_e_taras.md\", \"escreva um resumo detalhado do captulo 'PBB e tapas' em portugues\")"
   ]
  },
  {
   "cell_type": "code",
   "execution_count": 15,
   "metadata": {},
   "outputs": [],
   "source": [
    "summarize_chapter(\"13-pbb_e_a_lean_inception.md\", \"13-pbb_e_a_lean_inception.md\", \"escreva um resumo detalhado do captulo 'PBB e a lean inception' em portugues\")"
   ]
  }
 ],
 "metadata": {
  "kernelspec": {
   "display_name": "ollama-langchain-IuScLoIt",
   "language": "python",
   "name": "python3"
  },
  "language_info": {
   "codemirror_mode": {
    "name": "ipython",
    "version": 3
   },
   "file_extension": ".py",
   "mimetype": "text/x-python",
   "name": "python",
   "nbconvert_exporter": "python",
   "pygments_lexer": "ipython3",
   "version": "3.12.5"
  }
 },
 "nbformat": 4,
 "nbformat_minor": 2
}
