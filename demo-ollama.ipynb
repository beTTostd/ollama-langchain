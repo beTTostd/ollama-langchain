{
 "cells": [
  {
   "cell_type": "code",
   "execution_count": 5,
   "metadata": {},
   "outputs": [],
   "source": [
    "from langchain_community.llms import Ollama"
   ]
  },
  {
   "cell_type": "markdown",
   "metadata": {},
   "source": [
    "## Exemplo mais simples"
   ]
  },
  {
   "cell_type": "code",
   "execution_count": 6,
   "metadata": {},
   "outputs": [],
   "source": [
    "llm = Ollama(model=\"llama3.2\")"
   ]
  },
  {
   "cell_type": "code",
   "execution_count": 7,
   "metadata": {},
   "outputs": [
    {
     "data": {
      "text/plain": [
       "'LangChain é uma biblioteca de código aberto para Python, projetada especificamente para integrar modelo de linguagem com outras aplicações. Ela fornece um conjunto de ferramentas e funcionalidades para criar modelos de linguagem personalizadas e adaptáveis às necessidades específicas.\\n\\nA principal ideia por trás do LangChain é permitir que os usuários criem modelos de linguagem que sejam mais flexíveis, escaláveis e eficientes em termos de desempenho. Isso é alcançado fornecendo uma API simplificada para trabalhar com modelos de linguagem de vários tipos, incluindo modelos de texto a texto (text-to-text) e modelo de texto para imagem (text-to-image).\\n\\nAlgumas das principais funcionalidades do LangChain incluem:\\n\\n- Apoio a diferentes frameworks de modelagem de linguagem, como Hugging Face Transformers e PyTorch.\\n- Compatibilidade com várias bibliotecas de processamento de linguagem natural, como NLTK e spaCy.\\n- Suporte a recursos avançados de processamento de linguagem, incluindo tokenização, embalagem e desembalagem de texto.\\n- Ferramentas para automatizar a execução de tarefas de modelagem de linguagem.\\n\\nLangChain é uma ferramenta valiosa para qualquer pessoa interessada em desenvolver modelos de linguagem ou integrá-los com outras aplicações. Com sua API fácil de usar, você pode rapidamente criar e personalizar seus próprios modelos de linguagem.\\n\\nAqui estão alguns exemplos do que você pode fazer com LangChain:\\n\\n- Desenvolver um modelo de texto a texto para gerar respostas automáticas a perguntas.\\n- Crie uma ferramenta de questionamento-respondimento para fornecer respostas a perguntas de usuário.\\n- Integra models de linguagem em chatbots ou aplicativos de suporte ao cliente.\\n\\nEm resumo, LangChain é uma ferramenta poderosa que permite criar modelos de linguagem personalizáveis e escaláveis. Sua API simplificada facilita o desenvolvimento e integração de modelagem de linguagem com outras aplicações.'"
      ]
     },
     "execution_count": 7,
     "metadata": {},
     "output_type": "execute_result"
    }
   ],
   "source": [
    "llm.invoke(\"O que e langchain?\")"
   ]
  },
  {
   "cell_type": "markdown",
   "metadata": {},
   "source": [
    "## Adicionando Prompt Template"
   ]
  },
  {
   "cell_type": "code",
   "execution_count": 8,
   "metadata": {},
   "outputs": [],
   "source": [
    "from langchain_core.prompts import ChatPromptTemplate\n",
    "prompt = ChatPromptTemplate.from_messages([\n",
    "    (\"system\", \"Responda de forma curta e rude.\"),\n",
    "    (\"user\", \"{input}\")\n",
    "])"
   ]
  },
  {
   "cell_type": "code",
   "execution_count": 9,
   "metadata": {},
   "outputs": [],
   "source": [
    "chain = prompt | llm"
   ]
  },
  {
   "cell_type": "code",
   "execution_count": 10,
   "metadata": {},
   "outputs": [
    {
     "data": {
      "text/plain": [
       "'LangChain é uma plataforma para desenvolvimento de chatbots.'"
      ]
     },
     "execution_count": 10,
     "metadata": {},
     "output_type": "execute_result"
    }
   ],
   "source": [
    "chain.invoke({\"input\": \"O que e langchain?\"})"
   ]
  },
  {
   "cell_type": "code",
   "execution_count": null,
   "metadata": {},
   "outputs": [],
   "source": []
  }
 ],
 "metadata": {
  "kernelspec": {
   "display_name": "ollama-langchain-IuScLoIt",
   "language": "python",
   "name": "python3"
  },
  "language_info": {
   "codemirror_mode": {
    "name": "ipython",
    "version": 3
   },
   "file_extension": ".py",
   "mimetype": "text/x-python",
   "name": "python",
   "nbconvert_exporter": "python",
   "pygments_lexer": "ipython3",
   "version": "3.12.5"
  }
 },
 "nbformat": 4,
 "nbformat_minor": 2
}
