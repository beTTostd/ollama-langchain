{
 "cells": [
  {
   "cell_type": "code",
   "execution_count": 1,
   "metadata": {},
   "outputs": [],
   "source": [
    "# ! ollama run gemma:7b\n",
    "# ! ollama run llama3.2"
   ]
  },
  {
   "cell_type": "code",
   "execution_count": 2,
   "metadata": {},
   "outputs": [],
   "source": [
    "# Imports\n",
    "import datetime\n",
    "import time\n",
    "\n",
    "from langchain_core.vectorstores import InMemoryVectorStore\n",
    "from langchain_text_splitters import RecursiveCharacterTextSplitter\n",
    "\n",
    "from langchain_community.document_loaders import UnstructuredMarkdownLoader\n",
    "\n",
    "from langchain_community.llms import Ollama\n",
    "from langchain_community.embeddings import OllamaEmbeddings\n",
    "\n",
    "from langchain.chains import create_retrieval_chain\n",
    "from langchain.chains.combine_documents import create_stuff_documents_chain\n",
    "from langchain_core.prompts import ChatPromptTemplate\n"
   ]
  },
  {
   "cell_type": "code",
   "execution_count": 4,
   "metadata": {},
   "outputs": [],
   "source": [
    "# Load LLM\n",
    "\n",
    "MODEL = 'llama3.2'\n",
    "# MODEL = 'gemma:7b'\n",
    "\n",
    "llm = Ollama(model=MODEL)\n",
    "embeddings = OllamaEmbeddings(model=MODEL)"
   ]
  },
  {
   "cell_type": "code",
   "execution_count": 5,
   "metadata": {},
   "outputs": [],
   "source": [
    "def summarize_chapter(file_name, file_name_output, question):\n",
    "\n",
    "  # Vars\n",
    "  now = datetime.datetime.now()\n",
    "  start_time = time.time()\n",
    "  path_file_load = './book/'+file_name\n",
    "  path_file_result = './output/'+file_name_output\n",
    "  path_file_history = './output/history/'+ str(now) + '--' + file_name_output\n",
    "\n",
    "  # Load file\n",
    "  loader = UnstructuredMarkdownLoader(path_file_load)\n",
    "  docs = loader.load()  \n",
    "  # text_splitter = RecursiveCharacterTextSplitter(chunk_size=1000, chunk_overlap=200)\n",
    "  # splits = text_splitter.split_documents(docs)\n",
    "  # vectorstore = InMemoryVectorStore.from_documents(\n",
    "  #     documents=splits, embedding=OpenAIEmbeddings()\n",
    "  # )\n",
    "\n",
    "  # Create vector store\n",
    "  vectorstore = InMemoryVectorStore.from_documents(\n",
    "    documents=docs, embedding=embeddings\n",
    "  )\n",
    "\n",
    "  retriever = vectorstore.as_retriever()\n",
    "\n",
    "  # Create pronpt\n",
    "  system_prompt = (\n",
    "    # \"You are an assistant for question-answering tasks. \"\n",
    "    \"Use the following chapter to answer the question.\"\n",
    "    \"If you don't know the answer, say that you don't know. \"\n",
    "    # \"Use three sentences maximum and keep the \"\n",
    "    # \"answer concise.\"\n",
    "    \"\\n\\n\"\n",
    "    \"{context}\"\n",
    "  )\n",
    "\n",
    "  prompt = ChatPromptTemplate.from_messages([\n",
    "    (\"system\", system_prompt),\n",
    "    (\"human\", \"{input}\"),\n",
    "    ])\n",
    "\n",
    "  # Create Pipe\n",
    "  question_answer_chain = create_stuff_documents_chain(llm, prompt)\n",
    "  rag_chain = create_retrieval_chain(retriever, question_answer_chain)\n",
    "\n",
    "  # Execute\n",
    "  results = rag_chain.invoke({\"input\": question})\n",
    "\n",
    "  end_time = time.time()\n",
    "\n",
    "  # Write\n",
    "  f = open(path_file_result, \"w\")\n",
    "  f.write(results['answer'])\n",
    "  f.close()\n",
    "\n",
    "  f = open(path_file_history, \"w\")\n",
    "  f.write(f'model: {MODEL}\\n')\n",
    "  f.write(f'start at: {now}\\n')\n",
    "  f.write(f'system_prompt: \"{system_prompt.join('; ')}\"\\n')\n",
    "  f.write(f'question: {question}\\n')\n",
    "  f.write(f'time to process: {end_time - start_time}\\n')\n",
    "  f.write(\"\\n\\n\")\n",
    "  f.write(results['answer'])\n",
    "  f.close()"
   ]
  },
  {
   "cell_type": "code",
   "execution_count": 11,
   "metadata": {},
   "outputs": [],
   "source": [
    "summarize_chapter(\"00-FOREWORD.md\", \"00-FOREWORD.md\", \"escreva um resumo sobre o prefacio e crie topicos sobre o que foi dito\")"
   ]
  },
  {
   "cell_type": "code",
   "execution_count": 9,
   "metadata": {},
   "outputs": [],
   "source": [
    "summarize_chapter(\"01-ACCELERATE.md\", \"01-ACCELERATE.md\", \"escreva um resumo detalhado do captulo 'ACCELERATE'\")"
   ]
  },
  {
   "cell_type": "code",
   "execution_count": null,
   "metadata": {},
   "outputs": [],
   "source": [
    "summarize_chapter(\"02-MEASURING-PERFORMANCE.md\", \"02-0-MEASURING-PERFORMANCE.md\", \"escreva um resumo detalhado do captulo 'MEASURING PERFORMANCE'\")"
   ]
  },
  {
   "cell_type": "code",
   "execution_count": 14,
   "metadata": {},
   "outputs": [],
   "source": [
    "summarize_chapter(\"02-MEASURING-PERFORMANCE.md\", \"02-1-MEASURING-PERFORMANCE.md\", \"escreva todos os Construtores e Indicadores\")"
   ]
  },
  {
   "cell_type": "code",
   "execution_count": 12,
   "metadata": {},
   "outputs": [],
   "source": [
    "summarize_chapter(\"03-MEASURING-AND-CHANGING-CULTURE.md\", \"03-MEASURING-AND-CHANGING-CULTURE.md\", \"escreva um resumo detalhado do captulo 'MEASURING AND CHANGING CULTURE'\")"
   ]
  },
  {
   "cell_type": "code",
   "execution_count": 15,
   "metadata": {},
   "outputs": [],
   "source": [
    "summarize_chapter(\"04-TECHNICAL-PRACTICES.md\", \"04-TECHNICAL-PRACTICES.md\", \"escreva um resumo detalhado do captulo 'TECHNICAL PRACTICES'\")"
   ]
  },
  {
   "cell_type": "code",
   "execution_count": 16,
   "metadata": {},
   "outputs": [],
   "source": [
    "summarize_chapter(\"05-ARCHITECTURE.md\", \"05-ARCHITECTURE.md\", \"escreva um resumo detalhado do captulo 'ARCHITECTURE'\")"
   ]
  },
  {
   "cell_type": "code",
   "execution_count": 17,
   "metadata": {},
   "outputs": [],
   "source": [
    "summarize_chapter(\"06-INTEGRATING-INFOSEC-INTO-THE-DELIVERY-LIFECYCLE.md\", \"06-INTEGRATING-INFOSEC-INTO-THE-DELIVERY-LIFECYCLE.md\", \"escreva um resumo detalhado do captulo 'INTEGRATING INFOSEC INTO THE DELIVERY LIFECYCLE'\")"
   ]
  },
  {
   "cell_type": "code",
   "execution_count": 19,
   "metadata": {},
   "outputs": [],
   "source": [
    "summarize_chapter(\"07-MANAGEMENT-PRACTICES-FOR-SOFTWARE.md\", \"07-MANAGEMENT-PRACTICES-FOR-SOFTWARE.md\", \"escreva um resumo detalhado do captulo 'MANAGEMENT PRACTICES FOR SOFTWARE'\")"
   ]
  },
  {
   "cell_type": "code",
   "execution_count": 20,
   "metadata": {},
   "outputs": [],
   "source": [
    "summarize_chapter(\"08-PRODUCT-DEVELOPMENT.md\", \"08-PRODUCT-DEVELOPMENT.md\", \"escreva um resumo detalhado do captulo 'PRODUCT DEVELOPMENT'\")"
   ]
  }
 ],
 "metadata": {
  "kernelspec": {
   "display_name": "ollama-langchain-IuScLoIt",
   "language": "python",
   "name": "python3"
  },
  "language_info": {
   "codemirror_mode": {
    "name": "ipython",
    "version": 3
   },
   "file_extension": ".py",
   "mimetype": "text/x-python",
   "name": "python",
   "nbconvert_exporter": "python",
   "pygments_lexer": "ipython3",
   "version": "3.12.5"
  }
 },
 "nbformat": 4,
 "nbformat_minor": 2
}
